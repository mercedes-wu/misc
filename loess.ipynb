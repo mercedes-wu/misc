{
 "cells": [
  {
   "cell_type": "code",
   "execution_count": 1,
   "id": "19cb3e12-72bc-4227-88de-e2b34d3fa41d",
   "metadata": {},
   "outputs": [],
   "source": [
    "import pandas as pd"
   ]
  },
  {
   "cell_type": "code",
   "execution_count": 25,
   "id": "c6db2c9b-5d7e-4e66-82fb-848d69f0280d",
   "metadata": {},
   "outputs": [],
   "source": [
    "import plotly.io as pio\n",
    "pio.renderers.default='iframe'"
   ]
  },
  {
   "cell_type": "code",
   "execution_count": 18,
   "id": "976c4c02-4ee4-4088-90b5-446ad361f6f8",
   "metadata": {},
   "outputs": [],
   "source": [
    "import numpy as np"
   ]
  },
  {
   "cell_type": "code",
   "execution_count": 62,
   "id": "ca198db5-68e0-48eb-85a7-750b5dd88be4",
   "metadata": {},
   "outputs": [],
   "source": [
    "x = np.random.seed(1)"
   ]
  },
  {
   "cell_type": "code",
   "execution_count": 69,
   "id": "e4f7ee7f-a160-41ef-a396-aa854247e6bd",
   "metadata": {},
   "outputs": [],
   "source": []
  },
  {
   "cell_type": "code",
   "execution_count": 89,
   "id": "0984b114-7530-4193-9c27-7270f701c0aa",
   "metadata": {},
   "outputs": [],
   "source": [
    "X = np.random.randn(1000,1)\n",
    "y = 2*(X**3) + 1 + 10*np.random.randn(1000,1)"
   ]
  },
  {
   "cell_type": "code",
   "execution_count": 90,
   "id": "5d14a36b-ab9a-4eaf-aa71-a58efd2a1415",
   "metadata": {},
   "outputs": [],
   "source": [
    "df = pd.DataFrame({\n",
    "    'x':X.flatten(),\n",
    "    'y':y.flatten()\n",
    "})"
   ]
  },
  {
   "cell_type": "code",
   "execution_count": 91,
   "id": "d3fc96e1-8981-4e66-938c-991e965a831d",
   "metadata": {},
   "outputs": [],
   "source": [
    "import plotly.express as px"
   ]
  },
  {
   "cell_type": "code",
   "execution_count": 92,
   "id": "f94264f0-4b0f-4f1b-91a6-8a06b19a925f",
   "metadata": {},
   "outputs": [
    {
     "data": {
      "text/html": [
       "<iframe\n",
       "    scrolling=\"no\"\n",
       "    width=\"100%\"\n",
       "    height=\"545px\"\n",
       "    src=\"iframe_figures/figure_92.html\"\n",
       "    frameborder=\"0\"\n",
       "    allowfullscreen\n",
       "></iframe>\n"
      ]
     },
     "metadata": {},
     "output_type": "display_data"
    }
   ],
   "source": [
    "fig = px.scatter(df, x='x', y='y')\n",
    "fig.show()"
   ]
  },
  {
   "cell_type": "code",
   "execution_count": 27,
   "id": "f06f6aad-6786-48ab-b7bb-e4f3a0ed2494",
   "metadata": {},
   "outputs": [],
   "source": [
    "# Weight Matrix in code. It is a diagonal matrix.\n",
    "def wm(point, X, tau): \n",
    "    \n",
    "  # tau --> bandwidth\n",
    "  # X --> Training data.\n",
    "  # point --> the x where we want to make the prediction.\n",
    "    \n",
    "  # m is the No of training examples .\n",
    "    m = X.shape[0] \n",
    "    \n",
    "  # Initialising W as an identity matrix.\n",
    "    w = np.mat(np.eye(m)) \n",
    "    \n",
    "  # Calculating weights for all training examples [x(i)'s].\n",
    "    for i in range(m): \n",
    "        xi = X[i] \n",
    "        d = (-2 * tau * tau) \n",
    "        w[i, i] = np.exp(np.dot((xi-point), (xi-point).T)/d) \n",
    "        \n",
    "    return w\n"
   ]
  },
  {
   "cell_type": "code",
   "execution_count": 28,
   "id": "02d4dbd2-89cd-4c96-94e6-6307c95b5172",
   "metadata": {},
   "outputs": [],
   "source": [
    "def predict(X, y, point, tau): \n",
    "    \n",
    "   # m = number of training examples. \n",
    "    m = X.shape[0] \n",
    "    \n",
    "   # Appending a cloumn of ones in X to add the bias term.\n",
    "## # Just one parameter: theta, that's why adding a column of ones        #### to X and also adding a 1 for the point where we want to          #### predict. \n",
    "    X_ = np.append(X, np.ones(m).reshape(m,1), axis=1) \n",
    "    \n",
    "   # point is the x where we want to make the prediction. \n",
    "    point_ = np.array([point, 1]) \n",
    "    \n",
    "   # Calculating the weight matrix using the wm function we wrote      #  # earlier. \n",
    "    w = wm(point_, X_, tau) \n",
    "    \n",
    "  # Calculating parameter theta using the formula.\n",
    "    theta = np.linalg.pinv(X_.T*(w * X_))*(X_.T*(w * y)) \n",
    "    \n",
    "  # Calculating predictions.  \n",
    "    pred = np.dot(point_, theta) \n",
    "    \n",
    "   # Returning the theta and predictions \n",
    "    return theta, pred"
   ]
  },
  {
   "cell_type": "code",
   "execution_count": null,
   "id": "b944cd8b-6799-41e1-b4bd-c718096bab58",
   "metadata": {},
   "outputs": [],
   "source": []
  },
  {
   "cell_type": "code",
   "execution_count": 48,
   "id": "d976e027-a6b5-4cc4-ac4e-998c08501aad",
   "metadata": {},
   "outputs": [],
   "source": [
    "def plot_helper(X, y, X_test, preds):\n",
    "    orig_df = pd.DataFrame({\n",
    "        'x':X.flatten(),\n",
    "        'y':y.flatten()\n",
    "    })\n",
    "    orig_df['label'] = 'orig_dataset'\n",
    "    reg_df = pd.DataFrame({\n",
    "        'x':X_test.flatten(),\n",
    "        'y':preds.flatten()\n",
    "    })\n",
    "    reg_df['label'] = f'local_weighted_regression'\n",
    "\n",
    "    concat_df = pd.concat([orig_df, reg_df], axis=0)\n",
    "\n",
    "    fig = px.scatter(concat_df, x='x', y='y', color='label')\n",
    "\n",
    "    fig.show()"
   ]
  },
  {
   "cell_type": "code",
   "execution_count": 49,
   "id": "b6feec79-ac05-4d7b-8125-d07cd2b5cfe8",
   "metadata": {},
   "outputs": [],
   "source": [
    "def plot_predictions(X, y, tau, nval):\n",
    "   # X --> Training data. \n",
    "   # y --> Output sequence.\n",
    "   # nval --> number of values/points for which we are going to\n",
    "   # predict.\n",
    "   # tau --> the bandwidth.     \n",
    "    # The values for which we are going to predict.\n",
    "   # X_test includes nval evenly spaced values in the domain of X.\n",
    "    X_test = np.linspace(-3, 3, nval) \n",
    "    \n",
    "   # Empty list for storing predictions. \n",
    "    preds = [] \n",
    "    \n",
    "   # Predicting for all nval values and storing them in preds. \n",
    "    for point in X_test: \n",
    "        theta, pred = predict(X, y, point, tau) \n",
    "        preds.append(pred)\n",
    "        \n",
    "   # Reshaping X_test and preds\n",
    "    X_test = np.array(X_test).reshape(nval,1)\n",
    "    preds = np.array(preds).reshape(nval,1)\n",
    "    \n",
    "    plot_helper(X, y, X_test, preds)\n"
   ]
  },
  {
   "cell_type": "code",
   "execution_count": 93,
   "id": "626d496f-2f11-423a-bc6b-49ee653dcf67",
   "metadata": {},
   "outputs": [
    {
     "data": {
      "text/html": [
       "<iframe\n",
       "    scrolling=\"no\"\n",
       "    width=\"100%\"\n",
       "    height=\"545px\"\n",
       "    src=\"iframe_figures/figure_93.html\"\n",
       "    frameborder=\"0\"\n",
       "    allowfullscreen\n",
       "></iframe>\n"
      ]
     },
     "metadata": {},
     "output_type": "display_data"
    }
   ],
   "source": [
    "plot_predictions(X, y, 0.08, 100)"
   ]
  },
  {
   "cell_type": "code",
   "execution_count": 94,
   "id": "ee9fc5e5-12e7-4fc6-aac6-fdd30f3dd999",
   "metadata": {},
   "outputs": [
    {
     "data": {
      "text/html": [
       "<iframe\n",
       "    scrolling=\"no\"\n",
       "    width=\"100%\"\n",
       "    height=\"545px\"\n",
       "    src=\"iframe_figures/figure_94.html\"\n",
       "    frameborder=\"0\"\n",
       "    allowfullscreen\n",
       "></iframe>\n"
      ]
     },
     "metadata": {},
     "output_type": "display_data"
    }
   ],
   "source": [
    "plot_predictions(X, y, 0.2, 100)"
   ]
  },
  {
   "cell_type": "code",
   "execution_count": 95,
   "id": "9c275bda-9e90-41de-ad20-277c72c4f1d5",
   "metadata": {},
   "outputs": [
    {
     "data": {
      "text/html": [
       "<iframe\n",
       "    scrolling=\"no\"\n",
       "    width=\"100%\"\n",
       "    height=\"545px\"\n",
       "    src=\"iframe_figures/figure_95.html\"\n",
       "    frameborder=\"0\"\n",
       "    allowfullscreen\n",
       "></iframe>\n"
      ]
     },
     "metadata": {},
     "output_type": "display_data"
    }
   ],
   "source": [
    "plot_predictions(X, y, 0.8, 100)"
   ]
  },
  {
   "cell_type": "code",
   "execution_count": 99,
   "id": "18ff984a-110d-4c9e-905b-9b64e74368fc",
   "metadata": {},
   "outputs": [
    {
     "data": {
      "text/html": [
       "<iframe\n",
       "    scrolling=\"no\"\n",
       "    width=\"100%\"\n",
       "    height=\"545px\"\n",
       "    src=\"iframe_figures/figure_99.html\"\n",
       "    frameborder=\"0\"\n",
       "    allowfullscreen\n",
       "></iframe>\n"
      ]
     },
     "metadata": {},
     "output_type": "display_data"
    }
   ],
   "source": [
    "plot_predictions(X, y, 0.8, 3)"
   ]
  },
  {
   "cell_type": "code",
   "execution_count": null,
   "id": "22e36b7e-50de-4b1f-8941-c897160d78e3",
   "metadata": {},
   "outputs": [],
   "source": []
  }
 ],
 "metadata": {
  "kernelspec": {
   "display_name": "Python 3",
   "language": "python",
   "name": "python3"
  },
  "language_info": {
   "codemirror_mode": {
    "name": "ipython",
    "version": 3
   },
   "file_extension": ".py",
   "mimetype": "text/x-python",
   "name": "python",
   "nbconvert_exporter": "python",
   "pygments_lexer": "ipython3",
   "version": "3.9.2"
  }
 },
 "nbformat": 4,
 "nbformat_minor": 5
}
